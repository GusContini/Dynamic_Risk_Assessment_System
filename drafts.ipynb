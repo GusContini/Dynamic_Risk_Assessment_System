{
 "cells": [
  {
   "attachments": {},
   "cell_type": "markdown",
   "metadata": {},
   "source": [
    "### INGESTION"
   ]
  },
  {
   "cell_type": "code",
   "execution_count": 1,
   "metadata": {},
   "outputs": [],
   "source": [
    "import pandas as pd\n",
    "import numpy as np\n",
    "import os\n",
    "import json\n",
    "from datetime import datetime"
   ]
  },
  {
   "cell_type": "code",
   "execution_count": 2,
   "metadata": {},
   "outputs": [
    {
     "name": "stdout",
     "output_type": "stream",
     "text": [
      "practicedata\n",
      "ingesteddata\n"
     ]
    }
   ],
   "source": [
    "#############Load config.json and get input and output paths\n",
    "with open('config.json','r') as f:\n",
    "    config = json.load(f) \n",
    "\n",
    "input_folder_path = config['input_folder_path']\n",
    "print(input_folder_path)\n",
    "output_folder_path = config['output_folder_path']\n",
    "print(output_folder_path)"
   ]
  },
  {
   "cell_type": "code",
   "execution_count": 19,
   "metadata": {},
   "outputs": [
    {
     "data": {
      "text/html": [
       "<div>\n",
       "<style scoped>\n",
       "    .dataframe tbody tr th:only-of-type {\n",
       "        vertical-align: middle;\n",
       "    }\n",
       "\n",
       "    .dataframe tbody tr th {\n",
       "        vertical-align: top;\n",
       "    }\n",
       "\n",
       "    .dataframe thead th {\n",
       "        text-align: right;\n",
       "    }\n",
       "</style>\n",
       "<table border=\"1\" class=\"dataframe\">\n",
       "  <thead>\n",
       "    <tr style=\"text-align: right;\">\n",
       "      <th></th>\n",
       "      <th>corporation</th>\n",
       "      <th>lastmonth_activity</th>\n",
       "      <th>lastyear_activity</th>\n",
       "      <th>number_of_employees</th>\n",
       "      <th>exited</th>\n",
       "    </tr>\n",
       "  </thead>\n",
       "  <tbody>\n",
       "  </tbody>\n",
       "</table>\n",
       "</div>"
      ],
      "text/plain": [
       "Empty DataFrame\n",
       "Columns: [corporation, lastmonth_activity, lastyear_activity, number_of_employees, exited]\n",
       "Index: []"
      ]
     },
     "execution_count": 19,
     "metadata": {},
     "output_type": "execute_result"
    }
   ],
   "source": [
    "main_df = pd.DataFrame(columns=[\n",
    "    'corporation', 'lastmonth_activity', 'lastyear_activity', 'number_of_employees', 'exited'\n",
    "    ])\n",
    "main_df.head(1)"
   ]
  },
  {
   "cell_type": "code",
   "execution_count": 27,
   "metadata": {},
   "outputs": [],
   "source": [
    "ingested_files = []"
   ]
  },
  {
   "cell_type": "code",
   "execution_count": 28,
   "metadata": {},
   "outputs": [
    {
     "name": "stdout",
     "output_type": "stream",
     "text": [
      "dataset2.csv\n",
      "\\\\wsl.localhost\\Ubuntu\\home\\chafund\\GIT\\Dynamic_Risk_Assessment_System\\practicedata\\dataset2.csv\n",
      "dataset1.csv\n",
      "\\\\wsl.localhost\\Ubuntu\\home\\chafund\\GIT\\Dynamic_Risk_Assessment_System\\practicedata\\dataset1.csv\n"
     ]
    }
   ],
   "source": [
    "current_dir = os.getcwd()\n",
    "input_dir = os.path.join(os.getcwd(), input_folder_path)\n",
    "input_files = os.listdir(input_dir)\n",
    "for file_name in input_files:\n",
    "    print(file_name)\n",
    "    if '.csv' in file_name:\n",
    "        print(os.path.join(input_dir,file_name))\n",
    "        df = pd.read_csv(os.path.join(input_dir,file_name))\n",
    "        main_df = pd.concat([main_df, df], ignore_index=True)\n",
    "        ingested_files.append(file_name)"
   ]
  },
  {
   "cell_type": "code",
   "execution_count": 29,
   "metadata": {},
   "outputs": [
    {
     "data": {
      "text/plain": [
       "['dataset2.csv', 'dataset1.csv']"
      ]
     },
     "execution_count": 29,
     "metadata": {},
     "output_type": "execute_result"
    }
   ],
   "source": [
    "ingested_files"
   ]
  },
  {
   "cell_type": "code",
   "execution_count": 22,
   "metadata": {},
   "outputs": [
    {
     "data": {
      "text/html": [
       "<div>\n",
       "<style scoped>\n",
       "    .dataframe tbody tr th:only-of-type {\n",
       "        vertical-align: middle;\n",
       "    }\n",
       "\n",
       "    .dataframe tbody tr th {\n",
       "        vertical-align: top;\n",
       "    }\n",
       "\n",
       "    .dataframe thead th {\n",
       "        text-align: right;\n",
       "    }\n",
       "</style>\n",
       "<table border=\"1\" class=\"dataframe\">\n",
       "  <thead>\n",
       "    <tr style=\"text-align: right;\">\n",
       "      <th></th>\n",
       "      <th>corporation</th>\n",
       "      <th>lastmonth_activity</th>\n",
       "      <th>lastyear_activity</th>\n",
       "      <th>number_of_employees</th>\n",
       "      <th>exited</th>\n",
       "    </tr>\n",
       "  </thead>\n",
       "  <tbody>\n",
       "    <tr>\n",
       "      <th>0</th>\n",
       "      <td>abcd</td>\n",
       "      <td>78</td>\n",
       "      <td>1024</td>\n",
       "      <td>12</td>\n",
       "      <td>1</td>\n",
       "    </tr>\n",
       "    <tr>\n",
       "      <th>1</th>\n",
       "      <td>asdf</td>\n",
       "      <td>14</td>\n",
       "      <td>2145</td>\n",
       "      <td>20</td>\n",
       "      <td>0</td>\n",
       "    </tr>\n",
       "    <tr>\n",
       "      <th>2</th>\n",
       "      <td>xyzz</td>\n",
       "      <td>182</td>\n",
       "      <td>3891</td>\n",
       "      <td>35</td>\n",
       "      <td>0</td>\n",
       "    </tr>\n",
       "    <tr>\n",
       "      <th>3</th>\n",
       "      <td>acme</td>\n",
       "      <td>101</td>\n",
       "      <td>10983</td>\n",
       "      <td>2</td>\n",
       "      <td>1</td>\n",
       "    </tr>\n",
       "    <tr>\n",
       "      <th>4</th>\n",
       "      <td>qwer</td>\n",
       "      <td>0</td>\n",
       "      <td>118</td>\n",
       "      <td>42</td>\n",
       "      <td>1</td>\n",
       "    </tr>\n",
       "  </tbody>\n",
       "</table>\n",
       "</div>"
      ],
      "text/plain": [
       "  corporation lastmonth_activity lastyear_activity number_of_employees exited\n",
       "0        abcd                 78              1024                  12      1\n",
       "1        asdf                 14              2145                  20      0\n",
       "2        xyzz                182              3891                  35      0\n",
       "3        acme                101             10983                   2      1\n",
       "4        qwer                  0               118                  42      1"
      ]
     },
     "execution_count": 22,
     "metadata": {},
     "output_type": "execute_result"
    }
   ],
   "source": [
    "main_df.head()"
   ]
  },
  {
   "cell_type": "code",
   "execution_count": 23,
   "metadata": {},
   "outputs": [
    {
     "name": "stdout",
     "output_type": "stream",
     "text": [
      "(36, 5)\n",
      "(26, 5)\n"
     ]
    }
   ],
   "source": [
    "print(main_df.shape)\n",
    "main_df = main_df.drop_duplicates()\n",
    "print(main_df.shape)"
   ]
  },
  {
   "cell_type": "code",
   "execution_count": 24,
   "metadata": {},
   "outputs": [
    {
     "name": "stdout",
     "output_type": "stream",
     "text": [
      "\\\\wsl.localhost\\Ubuntu\\home\\chafund\\GIT\\Dynamic_Risk_Assessment_System\\ingesteddata\n"
     ]
    }
   ],
   "source": [
    "# save to outout folder\n",
    "output_dir = os.path.join(os.getcwd(), output_folder_path)\n",
    "print(output_dir)"
   ]
  },
  {
   "cell_type": "code",
   "execution_count": 26,
   "metadata": {},
   "outputs": [],
   "source": [
    "main_df.to_csv(os.path.join(output_dir, 'finaldata.csv'))"
   ]
  },
  {
   "cell_type": "code",
   "execution_count": 30,
   "metadata": {},
   "outputs": [],
   "source": [
    "with open(os.path.join(output_dir, 'ingestedfiles.txt'), 'w') as tfile:\n",
    "    tfile.write('\\n'.join(ingested_files))"
   ]
  },
  {
   "attachments": {},
   "cell_type": "markdown",
   "metadata": {},
   "source": [
    "### MODEL TRAINING"
   ]
  },
  {
   "cell_type": "code",
   "execution_count": 1,
   "metadata": {},
   "outputs": [],
   "source": [
    "from flask import Flask, session, jsonify, request\n",
    "import pandas as pd\n",
    "import numpy as np\n",
    "import pickle\n",
    "import os\n",
    "from sklearn import metrics\n",
    "from sklearn.model_selection import train_test_split\n",
    "from sklearn.linear_model import LogisticRegression\n",
    "import json"
   ]
  },
  {
   "cell_type": "code",
   "execution_count": 2,
   "metadata": {},
   "outputs": [
    {
     "name": "stdout",
     "output_type": "stream",
     "text": [
      "ingesteddata\n",
      "practicemodels\n"
     ]
    }
   ],
   "source": [
    "# Load config.json and get path variables\n",
    "with open('config.json','r') as f:\n",
    "    config = json.load(f) \n",
    "\n",
    "dataset_csv_path = os.path.join(config['output_folder_path'])\n",
    "print(dataset_csv_path)\n",
    "model_path = os.path.join(config['output_model_path'])\n",
    "print(model_path)"
   ]
  },
  {
   "cell_type": "code",
   "execution_count": 3,
   "metadata": {},
   "outputs": [
    {
     "name": "stdout",
     "output_type": "stream",
     "text": [
      "\\\\wsl.localhost\\Ubuntu\\home\\chafund\\GIT\\Dynamic_Risk_Assessment_System\\ingesteddata\n"
     ]
    }
   ],
   "source": [
    "data_dir = os.path.join(os.getcwd(), dataset_csv_path)\n",
    "print(data_dir)"
   ]
  },
  {
   "cell_type": "code",
   "execution_count": 8,
   "metadata": {},
   "outputs": [
    {
     "name": "stdout",
     "output_type": "stream",
     "text": [
      "(26, 5)\n"
     ]
    },
    {
     "data": {
      "text/html": [
       "<div>\n",
       "<style scoped>\n",
       "    .dataframe tbody tr th:only-of-type {\n",
       "        vertical-align: middle;\n",
       "    }\n",
       "\n",
       "    .dataframe tbody tr th {\n",
       "        vertical-align: top;\n",
       "    }\n",
       "\n",
       "    .dataframe thead th {\n",
       "        text-align: right;\n",
       "    }\n",
       "</style>\n",
       "<table border=\"1\" class=\"dataframe\">\n",
       "  <thead>\n",
       "    <tr style=\"text-align: right;\">\n",
       "      <th></th>\n",
       "      <th>corporation</th>\n",
       "      <th>lastmonth_activity</th>\n",
       "      <th>lastyear_activity</th>\n",
       "      <th>number_of_employees</th>\n",
       "      <th>exited</th>\n",
       "    </tr>\n",
       "  </thead>\n",
       "  <tbody>\n",
       "    <tr>\n",
       "      <th>0</th>\n",
       "      <td>abcd</td>\n",
       "      <td>78</td>\n",
       "      <td>1024</td>\n",
       "      <td>12</td>\n",
       "      <td>1</td>\n",
       "    </tr>\n",
       "    <tr>\n",
       "      <th>1</th>\n",
       "      <td>asdf</td>\n",
       "      <td>14</td>\n",
       "      <td>2145</td>\n",
       "      <td>20</td>\n",
       "      <td>0</td>\n",
       "    </tr>\n",
       "    <tr>\n",
       "      <th>2</th>\n",
       "      <td>xyzz</td>\n",
       "      <td>182</td>\n",
       "      <td>3891</td>\n",
       "      <td>35</td>\n",
       "      <td>0</td>\n",
       "    </tr>\n",
       "    <tr>\n",
       "      <th>3</th>\n",
       "      <td>acme</td>\n",
       "      <td>101</td>\n",
       "      <td>10983</td>\n",
       "      <td>2</td>\n",
       "      <td>1</td>\n",
       "    </tr>\n",
       "    <tr>\n",
       "      <th>4</th>\n",
       "      <td>qwer</td>\n",
       "      <td>0</td>\n",
       "      <td>118</td>\n",
       "      <td>42</td>\n",
       "      <td>1</td>\n",
       "    </tr>\n",
       "  </tbody>\n",
       "</table>\n",
       "</div>"
      ],
      "text/plain": [
       "  corporation  lastmonth_activity  lastyear_activity  number_of_employees  \\\n",
       "0        abcd                  78               1024                   12   \n",
       "1        asdf                  14               2145                   20   \n",
       "2        xyzz                 182               3891                   35   \n",
       "3        acme                 101              10983                    2   \n",
       "4        qwer                   0                118                   42   \n",
       "\n",
       "   exited  \n",
       "0       1  \n",
       "1       0  \n",
       "2       0  \n",
       "3       1  \n",
       "4       1  "
      ]
     },
     "execution_count": 8,
     "metadata": {},
     "output_type": "execute_result"
    }
   ],
   "source": [
    "data = pd.read_csv(os.path.join(data_dir, 'finaldata.csv'), index_col=0)\n",
    "print(data.shape)\n",
    "data.head()"
   ]
  },
  {
   "cell_type": "code",
   "execution_count": 10,
   "metadata": {},
   "outputs": [
    {
     "name": "stdout",
     "output_type": "stream",
     "text": [
      "<class 'pandas.core.frame.DataFrame'>\n",
      "Index: 26 entries, 0 to 29\n",
      "Data columns (total 5 columns):\n",
      " #   Column               Non-Null Count  Dtype \n",
      "---  ------               --------------  ----- \n",
      " 0   corporation          26 non-null     object\n",
      " 1   lastmonth_activity   26 non-null     int64 \n",
      " 2   lastyear_activity    26 non-null     int64 \n",
      " 3   number_of_employees  26 non-null     int64 \n",
      " 4   exited               26 non-null     int64 \n",
      "dtypes: int64(4), object(1)\n",
      "memory usage: 1.2+ KB\n"
     ]
    }
   ],
   "source": [
    "data.info()"
   ]
  },
  {
   "cell_type": "code",
   "execution_count": 24,
   "metadata": {},
   "outputs": [
    {
     "name": "stdout",
     "output_type": "stream",
     "text": [
      "(26,)\n"
     ]
    }
   ],
   "source": [
    "X = data[['lastmonth_activity', 'lastyear_activity', 'number_of_employees']]\n",
    "y = data['exited']\n",
    "print(y.shape)"
   ]
  },
  {
   "cell_type": "code",
   "execution_count": 29,
   "metadata": {},
   "outputs": [],
   "source": [
    "lg = LogisticRegression(C=1.0, class_weight=None, dual=False, fit_intercept=True,\n",
    "                intercept_scaling=1, l1_ratio=None, max_iter=100,\n",
    "                multi_class='auto', n_jobs=None, penalty='l2',\n",
    "                random_state=0, solver='liblinear', tol=0.0001, verbose=0,\n",
    "                warm_start=False)\n",
    "\n",
    "model = lg.fit(X, y)"
   ]
  },
  {
   "cell_type": "code",
   "execution_count": 30,
   "metadata": {},
   "outputs": [
    {
     "name": "stdout",
     "output_type": "stream",
     "text": [
      "\\\\wsl.localhost\\Ubuntu\\home\\chafund\\GIT\\Dynamic_Risk_Assessment_System\\practicemodels\\trainedmodel.pkl\n"
     ]
    }
   ],
   "source": [
    "print(os.path.join(os.getcwd(), model_path, 'trainedmodel.pkl'))"
   ]
  },
  {
   "cell_type": "code",
   "execution_count": 31,
   "metadata": {},
   "outputs": [],
   "source": [
    "pickle.dump(model, open(os.path.join(os.getcwd(), model_path, 'trainedmodel.pkl'), 'wb'))"
   ]
  },
  {
   "attachments": {},
   "cell_type": "markdown",
   "metadata": {},
   "source": [
    "### MODEL SCORING"
   ]
  },
  {
   "cell_type": "code",
   "execution_count": 32,
   "metadata": {},
   "outputs": [],
   "source": [
    "from flask import Flask, session, jsonify, request\n",
    "import pandas as pd\n",
    "import numpy as np\n",
    "import pickle\n",
    "import os\n",
    "from sklearn import metrics\n",
    "from sklearn.model_selection import train_test_split\n",
    "from sklearn.linear_model import LogisticRegression\n",
    "import json"
   ]
  },
  {
   "cell_type": "code",
   "execution_count": 36,
   "metadata": {},
   "outputs": [
    {
     "name": "stdout",
     "output_type": "stream",
     "text": [
      "practicemodels\n",
      "testdata\n"
     ]
    }
   ],
   "source": [
    "# Load config.json and get path variables\n",
    "with open('config.json','r') as f:\n",
    "    config = json.load(f) \n",
    "\n",
    "model_path = os.path.join(config['output_model_path'])\n",
    "print(model_path)\n",
    "test_data_path = os.path.join(config['test_data_path'])\n",
    "print(test_data_path)"
   ]
  },
  {
   "cell_type": "code",
   "execution_count": 37,
   "metadata": {},
   "outputs": [
    {
     "name": "stdout",
     "output_type": "stream",
     "text": [
      "\\\\wsl.localhost\\Ubuntu\\home\\chafund\\GIT\\Dynamic_Risk_Assessment_System\\practicemodels\n"
     ]
    }
   ],
   "source": [
    "model_dir = os.path.join(os.getcwd(), model_path)\n",
    "print(model_dir)"
   ]
  },
  {
   "cell_type": "code",
   "execution_count": 42,
   "metadata": {},
   "outputs": [
    {
     "name": "stdout",
     "output_type": "stream",
     "text": [
      "<class 'sklearn.linear_model._logistic.LogisticRegression'>\n"
     ]
    }
   ],
   "source": [
    "model = pickle.load(open(os.path.join(os.getcwd(), model_dir, 'trainedmodel.pkl'), 'rb'))\n",
    "print(type(model))"
   ]
  },
  {
   "cell_type": "code",
   "execution_count": 44,
   "metadata": {},
   "outputs": [
    {
     "name": "stdout",
     "output_type": "stream",
     "text": [
      "(5, 5)\n"
     ]
    }
   ],
   "source": [
    "testdata_dir = os.path.join(os.getcwd(), test_data_path)\n",
    "testdata = pd.read_csv(os.path.join(testdata_dir, 'testdata.csv'))\n",
    "print(testdata.shape)"
   ]
  },
  {
   "cell_type": "code",
   "execution_count": 45,
   "metadata": {},
   "outputs": [],
   "source": [
    "X_test = testdata[['lastmonth_activity', 'lastyear_activity', 'number_of_employees']]\n",
    "y_test = testdata['exited']"
   ]
  },
  {
   "cell_type": "code",
   "execution_count": 46,
   "metadata": {},
   "outputs": [],
   "source": [
    "pred = model.predict(X_test)"
   ]
  },
  {
   "cell_type": "code",
   "execution_count": 48,
   "metadata": {},
   "outputs": [],
   "source": [
    "f1score = metrics.f1_score(pred, y_test)"
   ]
  },
  {
   "cell_type": "code",
   "execution_count": 51,
   "metadata": {},
   "outputs": [],
   "source": [
    "with open(os.path.join(model_path, 'latestscore.txt'), 'w') as tfile:\n",
    "        tfile.write(str(f1score))"
   ]
  },
  {
   "attachments": {},
   "cell_type": "markdown",
   "metadata": {},
   "source": [
    "### MODEL DEPLOYMENT"
   ]
  },
  {
   "cell_type": "code",
   "execution_count": 52,
   "metadata": {},
   "outputs": [],
   "source": [
    "from flask import Flask, session, jsonify, request\n",
    "import pandas as pd\n",
    "import numpy as np\n",
    "import pickle\n",
    "import os\n",
    "from sklearn import metrics\n",
    "from sklearn.model_selection import train_test_split\n",
    "from sklearn.linear_model import LogisticRegression\n",
    "import json"
   ]
  },
  {
   "cell_type": "code",
   "execution_count": 63,
   "metadata": {},
   "outputs": [
    {
     "name": "stdout",
     "output_type": "stream",
     "text": [
      "practicemodels\n",
      "ingesteddata\n",
      "production_deployment\n"
     ]
    }
   ],
   "source": [
    "with open('config.json','r') as f:\n",
    "    config = json.load(f)\n",
    "\n",
    "model_path = os.path.join(config['output_model_path'])\n",
    "print(model_path)\n",
    "ingested_data_path = os.path.join(config['output_folder_path'])\n",
    "print(ingested_data_path)\n",
    "prod_deployment_path = os.path.join(config['prod_deployment_path'])\n",
    "print(prod_deployment_path)"
   ]
  },
  {
   "cell_type": "code",
   "execution_count": 59,
   "metadata": {},
   "outputs": [],
   "source": [
    "latestscore_dir = os.path.join(os.getcwd(), model_path)\n",
    "latestscore = open(os.path.join(os.getcwd(), latestscore_dir, 'latestscore.txt'), 'r').read()\n",
    "\n",
    "output_dir = latestscore_dir = os.path.join(os.getcwd(), prod_deployment_path)\n",
    "with open(os.path.join(os.getcwd(), output_dir, 'latestscore.txt'), 'w') as txt_file:\n",
    "    txt_file.write(str(latestscore))"
   ]
  },
  {
   "cell_type": "code",
   "execution_count": 62,
   "metadata": {},
   "outputs": [
    {
     "name": "stdout",
     "output_type": "stream",
     "text": [
      "dataset2.csv\n",
      "dataset1.csv\n"
     ]
    }
   ],
   "source": [
    "ingested_dir = os.path.join(os.getcwd(), ingested_data_path)\n",
    "ingested_data = open(os.path.join(os.getcwd(), ingested_dir, 'ingestedfiles.txt'), 'r').read()\n",
    "print(ingested_data)\n",
    "\n",
    "with open(os.path.join(os.getcwd(), output_dir, 'ingestedfiles.txt'), 'w') as txt_file:\n",
    "    txt_file.write(str(ingested_data))"
   ]
  },
  {
   "cell_type": "code",
   "execution_count": 66,
   "metadata": {},
   "outputs": [
    {
     "name": "stdout",
     "output_type": "stream",
     "text": [
      "\\\\wsl.localhost\\Ubuntu\\home\\chafund\\GIT\\Dynamic_Risk_Assessment_System\\practicemodels\n"
     ]
    }
   ],
   "source": [
    "model_dir = os.path.join(os.getcwd(), model_path)\n",
    "print(model_dir)"
   ]
  },
  {
   "cell_type": "code",
   "execution_count": 69,
   "metadata": {},
   "outputs": [],
   "source": [
    "import shutil"
   ]
  },
  {
   "cell_type": "code",
   "execution_count": 70,
   "metadata": {},
   "outputs": [
    {
     "data": {
      "text/plain": [
       "'\\\\\\\\wsl.localhost\\\\Ubuntu\\\\home\\\\chafund\\\\GIT\\\\Dynamic_Risk_Assessment_System\\\\production_deployment\\\\trainedmodel.pkl'"
      ]
     },
     "execution_count": 70,
     "metadata": {},
     "output_type": "execute_result"
    }
   ],
   "source": [
    "shutil.copyfile(\n",
    "    os.path.join(os.getcwd(), model_dir, 'trainedmodel.pkl'),\n",
    "    os.path.join(os.getcwd(), output_dir, 'trainedmodel.pkl')\n",
    ")"
   ]
  },
  {
   "attachments": {},
   "cell_type": "markdown",
   "metadata": {},
   "source": [
    "### DIAGNOSTIC"
   ]
  },
  {
   "cell_type": "code",
   "execution_count": 75,
   "metadata": {},
   "outputs": [
    {
     "name": "stdout",
     "output_type": "stream",
     "text": [
      "production_deployment\n",
      "testdata\n",
      "ingesteddata\n"
     ]
    }
   ],
   "source": [
    "with open('config.json','r') as f:\n",
    "    config = json.load(f)\n",
    "\n",
    "prod_path = os.path.join(config['prod_deployment_path'])\n",
    "print(prod_path) \n",
    "test_data_path = os.path.join(config['test_data_path'])\n",
    "print(test_data_path)\n",
    "output_path = os.path.join(config['output_folder_path'])\n",
    "print(output_path)"
   ]
  },
  {
   "cell_type": "code",
   "execution_count": 93,
   "metadata": {},
   "outputs": [],
   "source": [
    "def read_data(path, file_name):\n",
    "    testdata = pd.read_csv(os.path.join(path, file_name))\n",
    "    X = testdata[['lastmonth_activity', 'lastyear_activity', 'number_of_employees', 'exited']]\n",
    "    return X"
   ]
  },
  {
   "cell_type": "code",
   "execution_count": 94,
   "metadata": {},
   "outputs": [
    {
     "name": "stdout",
     "output_type": "stream",
     "text": [
      "(5, 4)\n"
     ]
    },
    {
     "data": {
      "text/html": [
       "<div>\n",
       "<style scoped>\n",
       "    .dataframe tbody tr th:only-of-type {\n",
       "        vertical-align: middle;\n",
       "    }\n",
       "\n",
       "    .dataframe tbody tr th {\n",
       "        vertical-align: top;\n",
       "    }\n",
       "\n",
       "    .dataframe thead th {\n",
       "        text-align: right;\n",
       "    }\n",
       "</style>\n",
       "<table border=\"1\" class=\"dataframe\">\n",
       "  <thead>\n",
       "    <tr style=\"text-align: right;\">\n",
       "      <th></th>\n",
       "      <th>lastmonth_activity</th>\n",
       "      <th>lastyear_activity</th>\n",
       "      <th>number_of_employees</th>\n",
       "      <th>exited</th>\n",
       "    </tr>\n",
       "  </thead>\n",
       "  <tbody>\n",
       "    <tr>\n",
       "      <th>0</th>\n",
       "      <td>234</td>\n",
       "      <td>3</td>\n",
       "      <td>10</td>\n",
       "      <td>1</td>\n",
       "    </tr>\n",
       "    <tr>\n",
       "      <th>1</th>\n",
       "      <td>14</td>\n",
       "      <td>2145</td>\n",
       "      <td>99</td>\n",
       "      <td>0</td>\n",
       "    </tr>\n",
       "    <tr>\n",
       "      <th>2</th>\n",
       "      <td>34</td>\n",
       "      <td>333</td>\n",
       "      <td>1000</td>\n",
       "      <td>0</td>\n",
       "    </tr>\n",
       "    <tr>\n",
       "      <th>3</th>\n",
       "      <td>101</td>\n",
       "      <td>12346</td>\n",
       "      <td>2</td>\n",
       "      <td>1</td>\n",
       "    </tr>\n",
       "    <tr>\n",
       "      <th>4</th>\n",
       "      <td>0</td>\n",
       "      <td>675</td>\n",
       "      <td>25</td>\n",
       "      <td>1</td>\n",
       "    </tr>\n",
       "  </tbody>\n",
       "</table>\n",
       "</div>"
      ],
      "text/plain": [
       "   lastmonth_activity  lastyear_activity  number_of_employees  exited\n",
       "0                 234                  3                   10       1\n",
       "1                  14               2145                   99       0\n",
       "2                  34                333                 1000       0\n",
       "3                 101              12346                    2       1\n",
       "4                   0                675                   25       1"
      ]
     },
     "execution_count": 94,
     "metadata": {},
     "output_type": "execute_result"
    }
   ],
   "source": [
    "X = read_data(os.path.join(os.getcwd(), test_data_path), 'testdata.csv')\n",
    "print(X.shape)\n",
    "X.head()"
   ]
  },
  {
   "cell_type": "code",
   "execution_count": 95,
   "metadata": {},
   "outputs": [
    {
     "data": {
      "text/plain": [
       "lastmonth_activity       76.6\n",
       "lastyear_activity      3100.4\n",
       "number_of_employees     227.2\n",
       "exited                    0.6\n",
       "dtype: float64"
      ]
     },
     "execution_count": 95,
     "metadata": {},
     "output_type": "execute_result"
    }
   ],
   "source": [
    "X.mean(axis=0)"
   ]
  },
  {
   "cell_type": "code",
   "execution_count": 96,
   "metadata": {},
   "outputs": [],
   "source": [
    "# Function to get model predictions\n",
    "def model_predictions(path, file_name):\n",
    "    #read the deployed model\n",
    "    model_dir = os.path.join(os.getcwd(), prod_path)\n",
    "    model = pickle.load(open(os.path.join(os.getcwd(), model_dir, 'trainedmodel.pkl'), 'rb'))\n",
    "    # and a test dataset\n",
    "    X = read_data(os.path.join(os.getcwd(), path), file_name)\n",
    "    X.drop(['exited'], axis=1, inplace=True)\n",
    "    # calculate predictions\n",
    "    pred = list(model.predict(X))\n",
    "    return pred"
   ]
  },
  {
   "cell_type": "code",
   "execution_count": 97,
   "metadata": {},
   "outputs": [
    {
     "name": "stdout",
     "output_type": "stream",
     "text": [
      "[0, 1, 1, 1, 1]\n"
     ]
    },
    {
     "name": "stderr",
     "output_type": "stream",
     "text": [
      "C:\\Users\\chafu\\AppData\\Local\\Packages\\PythonSoftwareFoundation.Python.3.10_qbz5n2kfra8p0\\LocalCache\\local-packages\\Python310\\site-packages\\sklearn\\base.py:299: UserWarning: Trying to unpickle estimator LogisticRegression from version 1.4.1.post1 when using version 1.2.1. This might lead to breaking code or invalid results. Use at your own risk. For more info please refer to:\n",
      "https://scikit-learn.org/stable/model_persistence.html#security-maintainability-limitations\n",
      "  warnings.warn(\n"
     ]
    }
   ],
   "source": [
    "pred = model_predictions(test_data_path, 'testdata.csv')\n",
    "print(pred)"
   ]
  },
  {
   "cell_type": "code",
   "execution_count": 100,
   "metadata": {},
   "outputs": [],
   "source": [
    "def dataframe_summary(data_path, file_name):\n",
    "    summary_stats = []\n",
    "    X = read_data(data_path, file_name)\n",
    "    pred = model_predictions(data_path, file_name)\n",
    "    X['prediction'] = pred\n",
    "    for col in X.columns:\n",
    "        summary_stats.append(X[col].mean())\n",
    "        summary_stats.append(X[col].median())\n",
    "        summary_stats.append(X[col].std())\n",
    "    return summary_stats"
   ]
  },
  {
   "cell_type": "code",
   "execution_count": 102,
   "metadata": {},
   "outputs": [
    {
     "name": "stdout",
     "output_type": "stream",
     "text": [
      "[165.65384615384616, 73.0, 284.0332293669446, 1502.923076923077, 955.0, 2192.64495845683, 26.884615384615383, 14.0, 31.35388578543581, 0.5769230769230769, 1.0, 0.5038314736557788, 0.7307692307692307, 1.0, 0.4523443208612048]\n"
     ]
    },
    {
     "name": "stderr",
     "output_type": "stream",
     "text": [
      "C:\\Users\\chafu\\AppData\\Local\\Packages\\PythonSoftwareFoundation.Python.3.10_qbz5n2kfra8p0\\LocalCache\\local-packages\\Python310\\site-packages\\sklearn\\base.py:299: UserWarning: Trying to unpickle estimator LogisticRegression from version 1.4.1.post1 when using version 1.2.1. This might lead to breaking code or invalid results. Use at your own risk. For more info please refer to:\n",
      "https://scikit-learn.org/stable/model_persistence.html#security-maintainability-limitations\n",
      "  warnings.warn(\n"
     ]
    }
   ],
   "source": [
    "summary_stats_ls = dataframe_summary(output_path, 'finaldata.csv')\n",
    "print(summary_stats_ls)"
   ]
  },
  {
   "cell_type": "code",
   "execution_count": 103,
   "metadata": {},
   "outputs": [],
   "source": [
    "def dataframe_na(data_path, file_name):\n",
    "    na_count = []\n",
    "    X = read_data(data_path, file_name)\n",
    "    pred = model_predictions(data_path, file_name)\n",
    "    X['prediction'] = pred\n",
    "    for col in X.columns:\n",
    "        na_count.append(X[col].isna().sum()/X.shape[0])\n",
    "    return na_count"
   ]
  },
  {
   "cell_type": "code",
   "execution_count": 105,
   "metadata": {},
   "outputs": [
    {
     "name": "stdout",
     "output_type": "stream",
     "text": [
      "[0.0, 0.0, 0.0, 0.0, 0.0]\n"
     ]
    },
    {
     "name": "stderr",
     "output_type": "stream",
     "text": [
      "C:\\Users\\chafu\\AppData\\Local\\Packages\\PythonSoftwareFoundation.Python.3.10_qbz5n2kfra8p0\\LocalCache\\local-packages\\Python310\\site-packages\\sklearn\\base.py:299: UserWarning: Trying to unpickle estimator LogisticRegression from version 1.4.1.post1 when using version 1.2.1. This might lead to breaking code or invalid results. Use at your own risk. For more info please refer to:\n",
      "https://scikit-learn.org/stable/model_persistence.html#security-maintainability-limitations\n",
      "  warnings.warn(\n"
     ]
    }
   ],
   "source": [
    "na_count_ls = dataframe_na(output_path, 'finaldata.csv')\n",
    "print(na_count_ls)"
   ]
  },
  {
   "cell_type": "code",
   "execution_count": 108,
   "metadata": {},
   "outputs": [],
   "source": [
    "import timeit"
   ]
  },
  {
   "cell_type": "code",
   "execution_count": 109,
   "metadata": {},
   "outputs": [],
   "source": [
    "def execution_time():\n",
    "    timing_list = []\n",
    "    # timing ingestion script\n",
    "    starttime = timeit.default_timer()\n",
    "    os.system('python3 ingestion.py')\n",
    "    timing_list.append(timeit.default_timer() - starttime)\n",
    "\n",
    "    # timing training script\n",
    "    starttime = timeit.default_timer()\n",
    "    os.system('python3 training.py')\n",
    "    timing_list.append(timeit.default_timer() - starttime)\n",
    "\n",
    "    return timing_list"
   ]
  },
  {
   "cell_type": "code",
   "execution_count": 110,
   "metadata": {},
   "outputs": [
    {
     "data": {
      "text/plain": [
       "[0.16129959998943377, 0.14875459999893792]"
      ]
     },
     "execution_count": 110,
     "metadata": {},
     "output_type": "execute_result"
    }
   ],
   "source": [
    "execution_time()"
   ]
  },
  {
   "cell_type": "code",
   "execution_count": 125,
   "metadata": {},
   "outputs": [
    {
     "data": {
      "text/plain": [
       "'2.2.0'"
      ]
     },
     "execution_count": 125,
     "metadata": {},
     "output_type": "execute_result"
    }
   ],
   "source": [
    "from importlib.metadata import version\n",
    "version('pandas')"
   ]
  },
  {
   "cell_type": "code",
   "execution_count": 137,
   "metadata": {},
   "outputs": [],
   "source": [
    "from importlib.metadata import version\n",
    "from tabulate import tabulate\n",
    "\n",
    "def check_module_versions(requirements_file):\n",
    "    # Read the requirements.txt file\n",
    "    with open(requirements_file, 'r') as f:\n",
    "        requirements = f.readlines()\n",
    "\n",
    "    # Strip newline characters and split by '==' to get module names\n",
    "    modules = [line.strip().split('==')[0] for line in requirements]\n",
    "    versions = [line.strip().split('==')[1] for line in requirements]\n",
    "    # Initialize a list to store module information\n",
    "    module_info = []\n",
    "    for module, vers in zip(modules, versions):\n",
    "    # Append module information to the list\n",
    "        module_info.append([module, vers, version(module)])\n",
    "\n",
    "    # Output module information in a table format\n",
    "    headers = [\"Module Name\", \"Latest Version\", \"Installed Version\"]\n",
    "    print(tabulate(module_info, headers=headers, tablefmt=\"grid\"))"
   ]
  },
  {
   "cell_type": "code",
   "execution_count": 138,
   "metadata": {},
   "outputs": [
    {
     "name": "stdout",
     "output_type": "stream",
     "text": [
      "+--------------------+------------------+---------------------+\n",
      "| Module Name        | Latest Version   | Installed Version   |\n",
      "+====================+==================+=====================+\n",
      "| click              | 8.1.7            | 8.1.3               |\n",
      "+--------------------+------------------+---------------------+\n",
      "| cycler             | 0.12.1           | 0.11.0              |\n",
      "+--------------------+------------------+---------------------+\n",
      "| Flask              | 3.0.2            | 2.2.2               |\n",
      "+--------------------+------------------+---------------------+\n",
      "| gunicorn           | 21.2.0           | 20.1.0              |\n",
      "+--------------------+------------------+---------------------+\n",
      "| itsdangerous       | 2.1.2            | 2.1.2               |\n",
      "+--------------------+------------------+---------------------+\n",
      "| Jinja2             | 3.1.3            | 3.1.2               |\n",
      "+--------------------+------------------+---------------------+\n",
      "| joblib             | 1.3.2            | 1.2.0               |\n",
      "+--------------------+------------------+---------------------+\n",
      "| kiwisolver         | 1.4.5            | 1.4.4               |\n",
      "+--------------------+------------------+---------------------+\n",
      "| MarkupSafe         | 2.1.5            | 2.1.1               |\n",
      "+--------------------+------------------+---------------------+\n",
      "| matplotlib         | 3.8.3            | 3.8.3               |\n",
      "+--------------------+------------------+---------------------+\n",
      "| numpy              | 1.26.4           | 1.26.4              |\n",
      "+--------------------+------------------+---------------------+\n",
      "| pandas             | 2.2.1            | 2.2.0               |\n",
      "+--------------------+------------------+---------------------+\n",
      "| Pillow             | 10.2.0           | 9.3.0               |\n",
      "+--------------------+------------------+---------------------+\n",
      "| pyparsing          | 3.1.2            | 3.0.9               |\n",
      "+--------------------+------------------+---------------------+\n",
      "| python-dateutil    | 2.9.0            | 2.8.2               |\n",
      "+--------------------+------------------+---------------------+\n",
      "| pytz               | 2024.1           | 2022.6              |\n",
      "+--------------------+------------------+---------------------+\n",
      "| scikit-learn       | 1.4.1            | 1.2.1               |\n",
      "+--------------------+------------------+---------------------+\n",
      "| scipy              | 1.12.0           | 1.10.1              |\n",
      "+--------------------+------------------+---------------------+\n",
      "| seaborn            | 0.13.2           | 0.13.2              |\n",
      "+--------------------+------------------+---------------------+\n",
      "| six                | 1.16.0           | 1.16.0              |\n",
      "+--------------------+------------------+---------------------+\n",
      "| threadpoolctl      | 3.4.0            | 3.1.0               |\n",
      "+--------------------+------------------+---------------------+\n",
      "| tabulate           | 0.9.0            | 0.8.10              |\n",
      "+--------------------+------------------+---------------------+\n",
      "| importlib_metadata | 7.1.0            | 6.1.0               |\n",
      "+--------------------+------------------+---------------------+\n",
      "| Werkzeug           | 3.0.1            | 2.2.2               |\n",
      "+--------------------+------------------+---------------------+\n"
     ]
    }
   ],
   "source": [
    "requirements_file = 'requirements.txt'\n",
    "check_module_versions(requirements_file)"
   ]
  },
  {
   "attachments": {},
   "cell_type": "markdown",
   "metadata": {},
   "source": [
    "### REPORTING"
   ]
  },
  {
   "cell_type": "code",
   "execution_count": null,
   "metadata": {},
   "outputs": [],
   "source": [
    "{\"input_folder_path\": \"practicedata\",\n",
    " \"output_folder_path\": \"ingesteddata\",\n",
    " \"test_data_path\": \"testdata\",\n",
    " \"output_model_path\": \"practicemodels\",\n",
    " \"prod_deployment_path\": \"production_deployment\"\n",
    " }"
   ]
  },
  {
   "cell_type": "code",
   "execution_count": 2,
   "metadata": {},
   "outputs": [],
   "source": [
    "import pickle\n",
    "from sklearn.model_selection import train_test_split\n",
    "import pandas as pd\n",
    "import numpy as np\n",
    "from sklearn import metrics\n",
    "import matplotlib.pyplot as plt\n",
    "import seaborn as sns\n",
    "import json\n",
    "import os"
   ]
  },
  {
   "cell_type": "code",
   "execution_count": 3,
   "metadata": {},
   "outputs": [
    {
     "name": "stdout",
     "output_type": "stream",
     "text": [
      "production_deployment testdata practicemodels\n"
     ]
    }
   ],
   "source": [
    "# Load config.json and get path variables\n",
    "with open('config.json','r') as f:\n",
    "    config = json.load(f) \n",
    "\n",
    "prod_path = os.path.join(config['prod_deployment_path'])\n",
    "test_data_path = os.path.join(config['test_data_path'])\n",
    "output_path = os.path.join(config['output_model_path'])\n",
    "print(prod_path, test_data_path, output_path)"
   ]
  },
  {
   "cell_type": "code",
   "execution_count": 4,
   "metadata": {},
   "outputs": [],
   "source": [
    "import diagnostics"
   ]
  },
  {
   "cell_type": "code",
   "execution_count": 5,
   "metadata": {},
   "outputs": [
    {
     "name": "stdout",
     "output_type": "stream",
     "text": [
      "(5, 4) (5,)\n"
     ]
    }
   ],
   "source": [
    "X, y = diagnostics.read_data(os.path.join(os.getcwd(), test_data_path), 'testdata.csv')\n",
    "print(X.shape, y.shape)"
   ]
  },
  {
   "cell_type": "code",
   "execution_count": 6,
   "metadata": {},
   "outputs": [
    {
     "name": "stdout",
     "output_type": "stream",
     "text": [
      "[0, 1, 1, 1, 1]\n"
     ]
    },
    {
     "name": "stderr",
     "output_type": "stream",
     "text": [
      "C:\\Users\\chafu\\AppData\\Local\\Packages\\PythonSoftwareFoundation.Python.3.10_qbz5n2kfra8p0\\LocalCache\\local-packages\\Python310\\site-packages\\sklearn\\base.py:299: UserWarning: Trying to unpickle estimator LogisticRegression from version 1.4.1.post1 when using version 1.2.1. This might lead to breaking code or invalid results. Use at your own risk. For more info please refer to:\n",
      "https://scikit-learn.org/stable/model_persistence.html#security-maintainability-limitations\n",
      "  warnings.warn(\n"
     ]
    }
   ],
   "source": [
    "pred = diagnostics.model_predictions(os.path.join(os.getcwd(), test_data_path), 'testdata.csv')\n",
    "print(pred)"
   ]
  },
  {
   "cell_type": "code",
   "execution_count": 15,
   "metadata": {},
   "outputs": [
    {
     "data": {
      "image/png": "[encoded data removed]",
      "text/plain": [
       "<Figure size 640x480 with 2 Axes>"
      ]
     },
     "metadata": {},
     "output_type": "display_data"
    }
   ],
   "source": [
    "disp = metrics.ConfusionMatrixDisplay(metrics.confusion_matrix(pred, y))\n",
    "disp.plot()\n",
    "fig = disp.figure_\n",
    "fig.savefig(os.path.join(os.getcwd(), output_path, 'confusionmatrix.png'))"
   ]
  },
  {
   "attachments": {},
   "cell_type": "markdown",
   "metadata": {},
   "source": [
    "### APIs"
   ]
  },
  {
   "cell_type": "code",
   "execution_count": 1,
   "metadata": {},
   "outputs": [],
   "source": [
    "import requests"
   ]
  },
  {
   "cell_type": "code",
   "execution_count": 20,
   "metadata": {},
   "outputs": [
    {
     "name": "stdout",
     "output_type": "stream",
     "text": [
      "b'[0, 1, 1, 1, 1]'\n"
     ]
    }
   ],
   "source": [
    "response1 = requests.post('http://127.0.0.1:8000/prediction?').content\n",
    "print(response1)"
   ]
  },
  {
   "cell_type": "code",
   "execution_count": 4,
   "metadata": {},
   "outputs": [
    {
     "name": "stdout",
     "output_type": "stream",
     "text": [
      "b'0.5714285714285714'\n"
     ]
    }
   ],
   "source": [
    "response2 = requests.get('http://127.0.0.1:8000/scoring?').content\n",
    "print(response2)"
   ]
  },
  {
   "cell_type": "code",
   "execution_count": 5,
   "metadata": {},
   "outputs": [
    {
     "name": "stdout",
     "output_type": "stream",
     "text": [
      "b'[165.65384615384616, 73.0, 284.0332293669446, 1502.923076923077, 955.0, 2192.64495845683, 26.884615384615383, 14.0, 31.35388578543581, 0.5769230769230769, 1.0, 0.5038314736557788, 0.7307692307692307, 1.0, 0.4523443208612048]'\n"
     ]
    }
   ],
   "source": [
    "response3 = requests.get('http://127.0.0.1:8000/summarystats?').content\n",
    "print(response3)"
   ]
  },
  {
   "cell_type": "code",
   "execution_count": 18,
   "metadata": {},
   "outputs": [
    {
     "name": "stdout",
     "output_type": "stream",
     "text": [
      "NA Count: [0.0, 0.0, 0.0, 0.0, 0.0]\n",
      "Timing List: [0.27314098799979547, 0.6164355149994662]\n",
      "Table: +--------------------+------------------+---------------------+\n",
      "| Module Name        | Latest Version   | Installed Version   |\n",
      "+====================+==================+=====================+\n",
      "| click              | 8.1.7            | 8.1.7               |\n",
      "+--------------------+------------------+---------------------+\n",
      "| cycler             | 0.12.1           | 0.12.1              |\n",
      "+--------------------+------------------+---------------------+\n",
      "| Flask              | 3.0.2            | 3.0.2               |\n",
      "+--------------------+------------------+---------------------+\n",
      "| gunicorn           | 21.2.0           | 21.2.0              |\n",
      "+--------------------+------------------+---------------------+\n",
      "| itsdangerous       | 2.1.2            | 2.1.2               |\n",
      "+--------------------+------------------+---------------------+\n",
      "| Jinja2             | 3.1.3            | 3.1.3               |\n",
      "+--------------------+------------------+---------------------+\n",
      "| joblib             | 1.3.2            | 1.3.2               |\n",
      "+--------------------+------------------+---------------------+\n",
      "| kiwisolver         | 1.4.5            | 1.4.5               |\n",
      "+--------------------+------------------+---------------------+\n",
      "| MarkupSafe         | 2.1.5            | 2.1.5               |\n",
      "+--------------------+------------------+---------------------+\n",
      "| matplotlib         | 3.8.3            | 3.8.3               |\n",
      "+--------------------+------------------+---------------------+\n",
      "| numpy              | 1.26.4           | 1.26.4              |\n",
      "+--------------------+------------------+---------------------+\n",
      "| pandas             | 2.2.1            | 2.2.1               |\n",
      "+--------------------+------------------+---------------------+\n",
      "| Pillow             | 10.2.0           | 10.2.0              |\n",
      "+--------------------+------------------+---------------------+\n",
      "| pyparsing          | 3.1.2            | 3.1.2               |\n",
      "+--------------------+------------------+---------------------+\n",
      "| python-dateutil    | 2.9.0            | 2.9.0.post0         |\n",
      "+--------------------+------------------+---------------------+\n",
      "| pytz               | 2024.1           | 2024.1              |\n",
      "+--------------------+------------------+---------------------+\n",
      "| scikit-learn       | 1.4.1            | 1.4.1.post1         |\n",
      "+--------------------+------------------+---------------------+\n",
      "| scipy              | 1.12.0           | 1.12.0              |\n",
      "+--------------------+------------------+---------------------+\n",
      "| seaborn            | 0.13.2           | 0.13.2              |\n",
      "+--------------------+------------------+---------------------+\n",
      "| six                | 1.16.0           | 1.16.0              |\n",
      "+--------------------+------------------+---------------------+\n",
      "| threadpoolctl      | 3.4.0            | 3.4.0               |\n",
      "+--------------------+------------------+---------------------+\n",
      "| tabulate           | 0.9.0            | 0.9.0               |\n",
      "+--------------------+------------------+---------------------+\n",
      "| importlib_metadata | 7.1.0            | 7.1.0               |\n",
      "+--------------------+------------------+---------------------+\n",
      "| Werkzeug           | 3.0.1            | 3.0.1               |\n",
      "+--------------------+------------------+---------------------+\n"
     ]
    }
   ],
   "source": [
    "url = 'http://127.0.0.1:8000/diagnostics?'\n",
    "\n",
    "response = requests.get(url)\n",
    "\n",
    "if response.status_code == 200:\n",
    "    data = response.json()\n",
    "    na_count = data[\"na_count\"]\n",
    "    timing_list = data[\"timing_list\"]\n",
    "    table = data[\"table\"]\n",
    "    print(\"NA Count:\", na_count)\n",
    "    print(\"Timing List:\", timing_list)\n",
    "    print(\"Table:\", table)\n",
    "else:\n",
    "    print(\"Error:\", response.status_code)"
   ]
  },
  {
   "attachments": {},
   "cell_type": "markdown",
   "metadata": {},
   "source": [
    "### AUTOMATION"
   ]
  },
  {
   "cell_type": "code",
   "execution_count": null,
   "metadata": {},
   "outputs": [],
   "source": [
    "{\"input_folder_path\": \"practicedata\",\n",
    " \"output_folder_path\": \"ingesteddata\",\n",
    " \"test_data_path\": \"testdata\",\n",
    " \"output_model_path\": \"practicemodels\",\n",
    " \"prod_deployment_path\": \"production_deployment\"\n",
    " }"
   ]
  },
  {
   "cell_type": "code",
   "execution_count": 1,
   "metadata": {},
   "outputs": [],
   "source": [
    "import json\n",
    "import os\n",
    "import subprocess\n",
    "import training\n",
    "import scoring\n",
    "import deployment\n",
    "import diagnostics\n",
    "import reporting"
   ]
  },
  {
   "cell_type": "code",
   "execution_count": 2,
   "metadata": {},
   "outputs": [
    {
     "name": "stdout",
     "output_type": "stream",
     "text": [
      "production_deployment sourcedata ingesteddata\n"
     ]
    }
   ],
   "source": [
    "# Load config.json and get path variables\n",
    "with open('config.json','r') as f:\n",
    "    config = json.load(f) \n",
    "\n",
    "prod_path = os.path.join(config['prod_deployment_path'])\n",
    "input_data_path = os.path.join(config['input_folder_path'])\n",
    "output_data_path = os.path.join(config['output_folder_path'])\n",
    "print(prod_path, input_data_path, output_data_path)"
   ]
  },
  {
   "cell_type": "code",
   "execution_count": 5,
   "metadata": {},
   "outputs": [
    {
     "name": "stdout",
     "output_type": "stream",
     "text": [
      "<class 'list'>\n"
     ]
    },
    {
     "data": {
      "text/plain": [
       "['dataset2.csv', 'dataset1.csv']"
      ]
     },
     "execution_count": 5,
     "metadata": {},
     "output_type": "execute_result"
    }
   ],
   "source": [
    "ingestedfiles = open(os.path.join(os.getcwd(), prod_path, 'ingestedfiles.txt'), 'r').read().splitlines()\n",
    "print(type(ingestedfiles))\n",
    "ingestedfiles"
   ]
  },
  {
   "cell_type": "code",
   "execution_count": 6,
   "metadata": {},
   "outputs": [
    {
     "name": "stdout",
     "output_type": "stream",
     "text": [
      "<class 'list'>\n"
     ]
    },
    {
     "data": {
      "text/plain": [
       "['dataset3.csv', 'dataset4.csv']"
      ]
     },
     "execution_count": 6,
     "metadata": {},
     "output_type": "execute_result"
    }
   ],
   "source": [
    "newfiles = os.listdir(os.path.join(os.getcwd(), input_data_path))\n",
    "print(type(newfiles))\n",
    "newfiles"
   ]
  },
  {
   "cell_type": "code",
   "execution_count": 7,
   "metadata": {},
   "outputs": [
    {
     "name": "stdout",
     "output_type": "stream",
     "text": [
      "true\n"
     ]
    }
   ],
   "source": [
    "elements_not_in_list2 = set(ingestedfiles) - set(newfiles)\n",
    "if elements_not_in_list2==False:\n",
    "    print('false')\n",
    "else:\n",
    "    print('true')"
   ]
  },
  {
   "cell_type": "code",
   "execution_count": 3,
   "metadata": {},
   "outputs": [
    {
     "name": "stdout",
     "output_type": "stream",
     "text": [
      "<class 'float'>\n"
     ]
    },
    {
     "data": {
      "text/plain": [
       "0.5714285714285714"
      ]
     },
     "execution_count": 3,
     "metadata": {},
     "output_type": "execute_result"
    }
   ],
   "source": [
    "latestscore = float(open(os.path.join(os.getcwd(), prod_path, 'latestscore.txt'), 'r').read())\n",
    "print(type(latestscore))\n",
    "latestscore"
   ]
  },
  {
   "cell_type": "code",
   "execution_count": 4,
   "metadata": {},
   "outputs": [
    {
     "name": "stdout",
     "output_type": "stream",
     "text": [
      "0.7647058823529413\n"
     ]
    },
    {
     "name": "stderr",
     "output_type": "stream",
     "text": [
      "C:\\Users\\chafu\\AppData\\Local\\Packages\\PythonSoftwareFoundation.Python.3.10_qbz5n2kfra8p0\\LocalCache\\local-packages\\Python310\\site-packages\\sklearn\\base.py:299: UserWarning: Trying to unpickle estimator LogisticRegression from version 1.4.1.post1 when using version 1.2.1. This might lead to breaking code or invalid results. Use at your own risk. For more info please refer to:\n",
      "https://scikit-learn.org/stable/model_persistence.html#security-maintainability-limitations\n",
      "  warnings.warn(\n"
     ]
    }
   ],
   "source": [
    "newscore = scoring.score_model(data_path=output_data_path, data_file='finaldata.csv')\n",
    "print(newscore)"
   ]
  }
 ],
 "metadata": {
  "kernelspec": {
   "display_name": "Python 3",
   "language": "python",
   "name": "python3"
  },
  "language_info": {
   "codemirror_mode": {
    "name": "ipython",
    "version": 3
   },
   "file_extension": ".py",
   "mimetype": "text/x-python",
   "name": "python",
   "nbconvert_exporter": "python",
   "pygments_lexer": "ipython3",
   "version": "3.10.11"
  },
  "orig_nbformat": 4,
  "vscode": {
   "interpreter": {
    "hash": "07491422174961e3509a6bd5f7bccd2c36592802c7b7225d12f0661f999904d5"
   }
  }
 },
 "nbformat": 4,
 "nbformat_minor": 2
}
