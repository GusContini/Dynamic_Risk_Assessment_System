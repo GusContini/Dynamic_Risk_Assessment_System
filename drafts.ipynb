{
 "cells": [
  {
   "attachments": {},
   "cell_type": "markdown",
   "metadata": {},
   "source": [
    "### INGESTION"
   ]
  },
  {
   "cell_type": "code",
   "execution_count": 1,
   "metadata": {},
   "outputs": [],
   "source": [
    "import pandas as pd\n",
    "import numpy as np\n",
    "import os\n",
    "import json\n",
    "from datetime import datetime"
   ]
  },
  {
   "cell_type": "code",
   "execution_count": 2,
   "metadata": {},
   "outputs": [
    {
     "name": "stdout",
     "output_type": "stream",
     "text": [
      "practicedata\n",
      "ingesteddata\n"
     ]
    }
   ],
   "source": [
    "#############Load config.json and get input and output paths\n",
    "with open('config.json','r') as f:\n",
    "    config = json.load(f) \n",
    "\n",
    "input_folder_path = config['input_folder_path']\n",
    "print(input_folder_path)\n",
    "output_folder_path = config['output_folder_path']\n",
    "print(output_folder_path)"
   ]
  },
  {
   "cell_type": "code",
   "execution_count": 19,
   "metadata": {},
   "outputs": [
    {
     "data": {
      "text/html": [
       "<div>\n",
       "<style scoped>\n",
       "    .dataframe tbody tr th:only-of-type {\n",
       "        vertical-align: middle;\n",
       "    }\n",
       "\n",
       "    .dataframe tbody tr th {\n",
       "        vertical-align: top;\n",
       "    }\n",
       "\n",
       "    .dataframe thead th {\n",
       "        text-align: right;\n",
       "    }\n",
       "</style>\n",
       "<table border=\"1\" class=\"dataframe\">\n",
       "  <thead>\n",
       "    <tr style=\"text-align: right;\">\n",
       "      <th></th>\n",
       "      <th>corporation</th>\n",
       "      <th>lastmonth_activity</th>\n",
       "      <th>lastyear_activity</th>\n",
       "      <th>number_of_employees</th>\n",
       "      <th>exited</th>\n",
       "    </tr>\n",
       "  </thead>\n",
       "  <tbody>\n",
       "  </tbody>\n",
       "</table>\n",
       "</div>"
      ],
      "text/plain": [
       "Empty DataFrame\n",
       "Columns: [corporation, lastmonth_activity, lastyear_activity, number_of_employees, exited]\n",
       "Index: []"
      ]
     },
     "execution_count": 19,
     "metadata": {},
     "output_type": "execute_result"
    }
   ],
   "source": [
    "main_df = pd.DataFrame(columns=[\n",
    "    'corporation', 'lastmonth_activity', 'lastyear_activity', 'number_of_employees', 'exited'\n",
    "    ])\n",
    "main_df.head(1)"
   ]
  },
  {
   "cell_type": "code",
   "execution_count": 27,
   "metadata": {},
   "outputs": [],
   "source": [
    "ingested_files = []"
   ]
  },
  {
   "cell_type": "code",
   "execution_count": 28,
   "metadata": {},
   "outputs": [
    {
     "name": "stdout",
     "output_type": "stream",
     "text": [
      "dataset2.csv\n",
      "\\\\wsl.localhost\\Ubuntu\\home\\chafund\\GIT\\Dynamic_Risk_Assessment_System\\practicedata\\dataset2.csv\n",
      "dataset1.csv\n",
      "\\\\wsl.localhost\\Ubuntu\\home\\chafund\\GIT\\Dynamic_Risk_Assessment_System\\practicedata\\dataset1.csv\n"
     ]
    }
   ],
   "source": [
    "current_dir = os.getcwd()\n",
    "input_dir = os.path.join(os.getcwd(), input_folder_path)\n",
    "input_files = os.listdir(input_dir)\n",
    "for file_name in input_files:\n",
    "    print(file_name)\n",
    "    if '.csv' in file_name:\n",
    "        print(os.path.join(input_dir,file_name))\n",
    "        df = pd.read_csv(os.path.join(input_dir,file_name))\n",
    "        main_df = pd.concat([main_df, df], ignore_index=True)\n",
    "        ingested_files.append(file_name)"
   ]
  },
  {
   "cell_type": "code",
   "execution_count": 29,
   "metadata": {},
   "outputs": [
    {
     "data": {
      "text/plain": [
       "['dataset2.csv', 'dataset1.csv']"
      ]
     },
     "execution_count": 29,
     "metadata": {},
     "output_type": "execute_result"
    }
   ],
   "source": [
    "ingested_files"
   ]
  },
  {
   "cell_type": "code",
   "execution_count": 22,
   "metadata": {},
   "outputs": [
    {
     "data": {
      "text/html": [
       "<div>\n",
       "<style scoped>\n",
       "    .dataframe tbody tr th:only-of-type {\n",
       "        vertical-align: middle;\n",
       "    }\n",
       "\n",
       "    .dataframe tbody tr th {\n",
       "        vertical-align: top;\n",
       "    }\n",
       "\n",
       "    .dataframe thead th {\n",
       "        text-align: right;\n",
       "    }\n",
       "</style>\n",
       "<table border=\"1\" class=\"dataframe\">\n",
       "  <thead>\n",
       "    <tr style=\"text-align: right;\">\n",
       "      <th></th>\n",
       "      <th>corporation</th>\n",
       "      <th>lastmonth_activity</th>\n",
       "      <th>lastyear_activity</th>\n",
       "      <th>number_of_employees</th>\n",
       "      <th>exited</th>\n",
       "    </tr>\n",
       "  </thead>\n",
       "  <tbody>\n",
       "    <tr>\n",
       "      <th>0</th>\n",
       "      <td>abcd</td>\n",
       "      <td>78</td>\n",
       "      <td>1024</td>\n",
       "      <td>12</td>\n",
       "      <td>1</td>\n",
       "    </tr>\n",
       "    <tr>\n",
       "      <th>1</th>\n",
       "      <td>asdf</td>\n",
       "      <td>14</td>\n",
       "      <td>2145</td>\n",
       "      <td>20</td>\n",
       "      <td>0</td>\n",
       "    </tr>\n",
       "    <tr>\n",
       "      <th>2</th>\n",
       "      <td>xyzz</td>\n",
       "      <td>182</td>\n",
       "      <td>3891</td>\n",
       "      <td>35</td>\n",
       "      <td>0</td>\n",
       "    </tr>\n",
       "    <tr>\n",
       "      <th>3</th>\n",
       "      <td>acme</td>\n",
       "      <td>101</td>\n",
       "      <td>10983</td>\n",
       "      <td>2</td>\n",
       "      <td>1</td>\n",
       "    </tr>\n",
       "    <tr>\n",
       "      <th>4</th>\n",
       "      <td>qwer</td>\n",
       "      <td>0</td>\n",
       "      <td>118</td>\n",
       "      <td>42</td>\n",
       "      <td>1</td>\n",
       "    </tr>\n",
       "  </tbody>\n",
       "</table>\n",
       "</div>"
      ],
      "text/plain": [
       "  corporation lastmonth_activity lastyear_activity number_of_employees exited\n",
       "0        abcd                 78              1024                  12      1\n",
       "1        asdf                 14              2145                  20      0\n",
       "2        xyzz                182              3891                  35      0\n",
       "3        acme                101             10983                   2      1\n",
       "4        qwer                  0               118                  42      1"
      ]
     },
     "execution_count": 22,
     "metadata": {},
     "output_type": "execute_result"
    }
   ],
   "source": [
    "main_df.head()"
   ]
  },
  {
   "cell_type": "code",
   "execution_count": 23,
   "metadata": {},
   "outputs": [
    {
     "name": "stdout",
     "output_type": "stream",
     "text": [
      "(36, 5)\n",
      "(26, 5)\n"
     ]
    }
   ],
   "source": [
    "print(main_df.shape)\n",
    "main_df = main_df.drop_duplicates()\n",
    "print(main_df.shape)"
   ]
  },
  {
   "cell_type": "code",
   "execution_count": 24,
   "metadata": {},
   "outputs": [
    {
     "name": "stdout",
     "output_type": "stream",
     "text": [
      "\\\\wsl.localhost\\Ubuntu\\home\\chafund\\GIT\\Dynamic_Risk_Assessment_System\\ingesteddata\n"
     ]
    }
   ],
   "source": [
    "# save to outout folder\n",
    "output_dir = os.path.join(os.getcwd(), output_folder_path)\n",
    "print(output_dir)"
   ]
  },
  {
   "cell_type": "code",
   "execution_count": 26,
   "metadata": {},
   "outputs": [],
   "source": [
    "main_df.to_csv(os.path.join(output_dir, 'finaldata.csv'))"
   ]
  },
  {
   "cell_type": "code",
   "execution_count": 30,
   "metadata": {},
   "outputs": [],
   "source": [
    "with open(os.path.join(output_dir, 'ingestedfiles.txt'), 'w') as tfile:\n",
    "    tfile.write('\\n'.join(ingested_files))"
   ]
  },
  {
   "attachments": {},
   "cell_type": "markdown",
   "metadata": {},
   "source": [
    "### MODEL TRAINING"
   ]
  },
  {
   "cell_type": "code",
   "execution_count": 1,
   "metadata": {},
   "outputs": [],
   "source": [
    "from flask import Flask, session, jsonify, request\n",
    "import pandas as pd\n",
    "import numpy as np\n",
    "import pickle\n",
    "import os\n",
    "from sklearn import metrics\n",
    "from sklearn.model_selection import train_test_split\n",
    "from sklearn.linear_model import LogisticRegression\n",
    "import json"
   ]
  },
  {
   "cell_type": "code",
   "execution_count": 2,
   "metadata": {},
   "outputs": [
    {
     "name": "stdout",
     "output_type": "stream",
     "text": [
      "ingesteddata\n",
      "practicemodels\n"
     ]
    }
   ],
   "source": [
    "# Load config.json and get path variables\n",
    "with open('config.json','r') as f:\n",
    "    config = json.load(f) \n",
    "\n",
    "dataset_csv_path = os.path.join(config['output_folder_path'])\n",
    "print(dataset_csv_path)\n",
    "model_path = os.path.join(config['output_model_path'])\n",
    "print(model_path)"
   ]
  },
  {
   "cell_type": "code",
   "execution_count": 3,
   "metadata": {},
   "outputs": [
    {
     "name": "stdout",
     "output_type": "stream",
     "text": [
      "\\\\wsl.localhost\\Ubuntu\\home\\chafund\\GIT\\Dynamic_Risk_Assessment_System\\ingesteddata\n"
     ]
    }
   ],
   "source": [
    "data_dir = os.path.join(os.getcwd(), dataset_csv_path)\n",
    "print(data_dir)"
   ]
  },
  {
   "cell_type": "code",
   "execution_count": 8,
   "metadata": {},
   "outputs": [
    {
     "name": "stdout",
     "output_type": "stream",
     "text": [
      "(26, 5)\n"
     ]
    },
    {
     "data": {
      "text/html": [
       "<div>\n",
       "<style scoped>\n",
       "    .dataframe tbody tr th:only-of-type {\n",
       "        vertical-align: middle;\n",
       "    }\n",
       "\n",
       "    .dataframe tbody tr th {\n",
       "        vertical-align: top;\n",
       "    }\n",
       "\n",
       "    .dataframe thead th {\n",
       "        text-align: right;\n",
       "    }\n",
       "</style>\n",
       "<table border=\"1\" class=\"dataframe\">\n",
       "  <thead>\n",
       "    <tr style=\"text-align: right;\">\n",
       "      <th></th>\n",
       "      <th>corporation</th>\n",
       "      <th>lastmonth_activity</th>\n",
       "      <th>lastyear_activity</th>\n",
       "      <th>number_of_employees</th>\n",
       "      <th>exited</th>\n",
       "    </tr>\n",
       "  </thead>\n",
       "  <tbody>\n",
       "    <tr>\n",
       "      <th>0</th>\n",
       "      <td>abcd</td>\n",
       "      <td>78</td>\n",
       "      <td>1024</td>\n",
       "      <td>12</td>\n",
       "      <td>1</td>\n",
       "    </tr>\n",
       "    <tr>\n",
       "      <th>1</th>\n",
       "      <td>asdf</td>\n",
       "      <td>14</td>\n",
       "      <td>2145</td>\n",
       "      <td>20</td>\n",
       "      <td>0</td>\n",
       "    </tr>\n",
       "    <tr>\n",
       "      <th>2</th>\n",
       "      <td>xyzz</td>\n",
       "      <td>182</td>\n",
       "      <td>3891</td>\n",
       "      <td>35</td>\n",
       "      <td>0</td>\n",
       "    </tr>\n",
       "    <tr>\n",
       "      <th>3</th>\n",
       "      <td>acme</td>\n",
       "      <td>101</td>\n",
       "      <td>10983</td>\n",
       "      <td>2</td>\n",
       "      <td>1</td>\n",
       "    </tr>\n",
       "    <tr>\n",
       "      <th>4</th>\n",
       "      <td>qwer</td>\n",
       "      <td>0</td>\n",
       "      <td>118</td>\n",
       "      <td>42</td>\n",
       "      <td>1</td>\n",
       "    </tr>\n",
       "  </tbody>\n",
       "</table>\n",
       "</div>"
      ],
      "text/plain": [
       "  corporation  lastmonth_activity  lastyear_activity  number_of_employees  \\\n",
       "0        abcd                  78               1024                   12   \n",
       "1        asdf                  14               2145                   20   \n",
       "2        xyzz                 182               3891                   35   \n",
       "3        acme                 101              10983                    2   \n",
       "4        qwer                   0                118                   42   \n",
       "\n",
       "   exited  \n",
       "0       1  \n",
       "1       0  \n",
       "2       0  \n",
       "3       1  \n",
       "4       1  "
      ]
     },
     "execution_count": 8,
     "metadata": {},
     "output_type": "execute_result"
    }
   ],
   "source": [
    "data = pd.read_csv(os.path.join(data_dir, 'finaldata.csv'), index_col=0)\n",
    "print(data.shape)\n",
    "data.head()"
   ]
  },
  {
   "cell_type": "code",
   "execution_count": 10,
   "metadata": {},
   "outputs": [
    {
     "name": "stdout",
     "output_type": "stream",
     "text": [
      "<class 'pandas.core.frame.DataFrame'>\n",
      "Index: 26 entries, 0 to 29\n",
      "Data columns (total 5 columns):\n",
      " #   Column               Non-Null Count  Dtype \n",
      "---  ------               --------------  ----- \n",
      " 0   corporation          26 non-null     object\n",
      " 1   lastmonth_activity   26 non-null     int64 \n",
      " 2   lastyear_activity    26 non-null     int64 \n",
      " 3   number_of_employees  26 non-null     int64 \n",
      " 4   exited               26 non-null     int64 \n",
      "dtypes: int64(4), object(1)\n",
      "memory usage: 1.2+ KB\n"
     ]
    }
   ],
   "source": [
    "data.info()"
   ]
  },
  {
   "cell_type": "code",
   "execution_count": 24,
   "metadata": {},
   "outputs": [
    {
     "name": "stdout",
     "output_type": "stream",
     "text": [
      "(26,)\n"
     ]
    }
   ],
   "source": [
    "X = data[['lastmonth_activity', 'lastyear_activity', 'number_of_employees']]\n",
    "y = data['exited']\n",
    "print(y.shape)"
   ]
  },
  {
   "cell_type": "code",
   "execution_count": 29,
   "metadata": {},
   "outputs": [],
   "source": [
    "lg = LogisticRegression(C=1.0, class_weight=None, dual=False, fit_intercept=True,\n",
    "                intercept_scaling=1, l1_ratio=None, max_iter=100,\n",
    "                multi_class='auto', n_jobs=None, penalty='l2',\n",
    "                random_state=0, solver='liblinear', tol=0.0001, verbose=0,\n",
    "                warm_start=False)\n",
    "\n",
    "model = lg.fit(X, y)"
   ]
  },
  {
   "cell_type": "code",
   "execution_count": 30,
   "metadata": {},
   "outputs": [
    {
     "name": "stdout",
     "output_type": "stream",
     "text": [
      "\\\\wsl.localhost\\Ubuntu\\home\\chafund\\GIT\\Dynamic_Risk_Assessment_System\\practicemodels\\trainedmodel.pkl\n"
     ]
    }
   ],
   "source": [
    "print(os.path.join(os.getcwd(), model_path, 'trainedmodel.pkl'))"
   ]
  },
  {
   "cell_type": "code",
   "execution_count": 31,
   "metadata": {},
   "outputs": [],
   "source": [
    "pickle.dump(model, open(os.path.join(os.getcwd(), model_path, 'trainedmodel.pkl'), 'wb'))"
   ]
  },
  {
   "attachments": {},
   "cell_type": "markdown",
   "metadata": {},
   "source": [
    "### MODEL SCORING"
   ]
  },
  {
   "cell_type": "code",
   "execution_count": 32,
   "metadata": {},
   "outputs": [],
   "source": [
    "from flask import Flask, session, jsonify, request\n",
    "import pandas as pd\n",
    "import numpy as np\n",
    "import pickle\n",
    "import os\n",
    "from sklearn import metrics\n",
    "from sklearn.model_selection import train_test_split\n",
    "from sklearn.linear_model import LogisticRegression\n",
    "import json"
   ]
  },
  {
   "cell_type": "code",
   "execution_count": 36,
   "metadata": {},
   "outputs": [
    {
     "name": "stdout",
     "output_type": "stream",
     "text": [
      "practicemodels\n",
      "testdata\n"
     ]
    }
   ],
   "source": [
    "# Load config.json and get path variables\n",
    "with open('config.json','r') as f:\n",
    "    config = json.load(f) \n",
    "\n",
    "model_path = os.path.join(config['output_model_path'])\n",
    "print(model_path)\n",
    "test_data_path = os.path.join(config['test_data_path'])\n",
    "print(test_data_path)"
   ]
  },
  {
   "cell_type": "code",
   "execution_count": 37,
   "metadata": {},
   "outputs": [
    {
     "name": "stdout",
     "output_type": "stream",
     "text": [
      "\\\\wsl.localhost\\Ubuntu\\home\\chafund\\GIT\\Dynamic_Risk_Assessment_System\\practicemodels\n"
     ]
    }
   ],
   "source": [
    "model_dir = os.path.join(os.getcwd(), model_path)\n",
    "print(model_dir)"
   ]
  },
  {
   "cell_type": "code",
   "execution_count": 42,
   "metadata": {},
   "outputs": [
    {
     "name": "stdout",
     "output_type": "stream",
     "text": [
      "<class 'sklearn.linear_model._logistic.LogisticRegression'>\n"
     ]
    }
   ],
   "source": [
    "model = pickle.load(open(os.path.join(os.getcwd(), model_dir, 'trainedmodel.pkl'), 'rb'))\n",
    "print(type(model))"
   ]
  },
  {
   "cell_type": "code",
   "execution_count": 44,
   "metadata": {},
   "outputs": [
    {
     "name": "stdout",
     "output_type": "stream",
     "text": [
      "(5, 5)\n"
     ]
    }
   ],
   "source": [
    "testdata_dir = os.path.join(os.getcwd(), test_data_path)\n",
    "testdata = pd.read_csv(os.path.join(testdata_dir, 'testdata.csv'))\n",
    "print(testdata.shape)"
   ]
  },
  {
   "cell_type": "code",
   "execution_count": 45,
   "metadata": {},
   "outputs": [],
   "source": [
    "X_test = testdata[['lastmonth_activity', 'lastyear_activity', 'number_of_employees']]\n",
    "y_test = testdata['exited']"
   ]
  },
  {
   "cell_type": "code",
   "execution_count": 46,
   "metadata": {},
   "outputs": [],
   "source": [
    "pred = model.predict(X_test)"
   ]
  },
  {
   "cell_type": "code",
   "execution_count": 48,
   "metadata": {},
   "outputs": [],
   "source": [
    "f1score = metrics.f1_score(pred, y_test)"
   ]
  },
  {
   "cell_type": "code",
   "execution_count": 51,
   "metadata": {},
   "outputs": [],
   "source": [
    "with open(os.path.join(model_path, 'latestscore.txt'), 'w') as tfile:\n",
    "        tfile.write(str(f1score))"
   ]
  },
  {
   "attachments": {},
   "cell_type": "markdown",
   "metadata": {},
   "source": [
    "### MODEL DEPLOYMENT"
   ]
  },
  {
   "cell_type": "code",
   "execution_count": 52,
   "metadata": {},
   "outputs": [],
   "source": [
    "from flask import Flask, session, jsonify, request\n",
    "import pandas as pd\n",
    "import numpy as np\n",
    "import pickle\n",
    "import os\n",
    "from sklearn import metrics\n",
    "from sklearn.model_selection import train_test_split\n",
    "from sklearn.linear_model import LogisticRegression\n",
    "import json"
   ]
  },
  {
   "cell_type": "code",
   "execution_count": 63,
   "metadata": {},
   "outputs": [
    {
     "name": "stdout",
     "output_type": "stream",
     "text": [
      "practicemodels\n",
      "ingesteddata\n",
      "production_deployment\n"
     ]
    }
   ],
   "source": [
    "with open('config.json','r') as f:\n",
    "    config = json.load(f)\n",
    "\n",
    "model_path = os.path.join(config['output_model_path'])\n",
    "print(model_path)\n",
    "ingested_data_path = os.path.join(config['output_folder_path'])\n",
    "print(ingested_data_path)\n",
    "prod_deployment_path = os.path.join(config['prod_deployment_path'])\n",
    "print(prod_deployment_path)"
   ]
  },
  {
   "cell_type": "code",
   "execution_count": 59,
   "metadata": {},
   "outputs": [],
   "source": [
    "latestscore_dir = os.path.join(os.getcwd(), model_path)\n",
    "latestscore = open(os.path.join(os.getcwd(), latestscore_dir, 'latestscore.txt'), 'r').read()\n",
    "\n",
    "output_dir = latestscore_dir = os.path.join(os.getcwd(), prod_deployment_path)\n",
    "with open(os.path.join(os.getcwd(), output_dir, 'latestscore.txt'), 'w') as txt_file:\n",
    "    txt_file.write(str(latestscore))"
   ]
  },
  {
   "cell_type": "code",
   "execution_count": 62,
   "metadata": {},
   "outputs": [
    {
     "name": "stdout",
     "output_type": "stream",
     "text": [
      "dataset2.csv\n",
      "dataset1.csv\n"
     ]
    }
   ],
   "source": [
    "ingested_dir = os.path.join(os.getcwd(), ingested_data_path)\n",
    "ingested_data = open(os.path.join(os.getcwd(), ingested_dir, 'ingestedfiles.txt'), 'r').read()\n",
    "print(ingested_data)\n",
    "\n",
    "with open(os.path.join(os.getcwd(), output_dir, 'ingestedfiles.txt'), 'w') as txt_file:\n",
    "    txt_file.write(str(ingested_data))"
   ]
  },
  {
   "cell_type": "code",
   "execution_count": 66,
   "metadata": {},
   "outputs": [
    {
     "name": "stdout",
     "output_type": "stream",
     "text": [
      "\\\\wsl.localhost\\Ubuntu\\home\\chafund\\GIT\\Dynamic_Risk_Assessment_System\\practicemodels\n"
     ]
    }
   ],
   "source": [
    "model_dir = os.path.join(os.getcwd(), model_path)\n",
    "print(model_dir)"
   ]
  },
  {
   "cell_type": "code",
   "execution_count": 69,
   "metadata": {},
   "outputs": [],
   "source": [
    "import shutil"
   ]
  },
  {
   "cell_type": "code",
   "execution_count": 70,
   "metadata": {},
   "outputs": [
    {
     "data": {
      "text/plain": [
       "'\\\\\\\\wsl.localhost\\\\Ubuntu\\\\home\\\\chafund\\\\GIT\\\\Dynamic_Risk_Assessment_System\\\\production_deployment\\\\trainedmodel.pkl'"
      ]
     },
     "execution_count": 70,
     "metadata": {},
     "output_type": "execute_result"
    }
   ],
   "source": [
    "shutil.copyfile(\n",
    "    os.path.join(os.getcwd(), model_dir, 'trainedmodel.pkl'),\n",
    "    os.path.join(os.getcwd(), output_dir, 'trainedmodel.pkl')\n",
    ")"
   ]
  }
 ],
 "metadata": {
  "kernelspec": {
   "display_name": "Python 3",
   "language": "python",
   "name": "python3"
  },
  "language_info": {
   "codemirror_mode": {
    "name": "ipython",
    "version": 3
   },
   "file_extension": ".py",
   "mimetype": "text/x-python",
   "name": "python",
   "nbconvert_exporter": "python",
   "pygments_lexer": "ipython3",
   "version": "3.10.11"
  },
  "orig_nbformat": 4,
  "vscode": {
   "interpreter": {
    "hash": "07491422174961e3509a6bd5f7bccd2c36592802c7b7225d12f0661f999904d5"
   }
  }
 },
 "nbformat": 4,
 "nbformat_minor": 2
}
